{
 "cells": [
  {
   "cell_type": "code",
   "execution_count": 1,
   "id": "a7acd6ff-9362-4668-ba00-6c96b58e2227",
   "metadata": {},
   "outputs": [],
   "source": [
    "# Imports\n",
    "\n",
    "import pandas as pd\n",
    "import numpy as np\n",
    "import matplotlib.pyplot as plt"
   ]
  },
  {
   "cell_type": "code",
   "execution_count": 5,
   "id": "9b841ba2-3298-4efa-a896-35d239d15c61",
   "metadata": {},
   "outputs": [],
   "source": [
    "# Reading the files\n",
    "\n",
    "population_proj = pd.read_csv(\"../data/raw/summary-statistics.csv\", skiprows=3)"
   ]
  },
  {
   "cell_type": "code",
   "execution_count": 7,
   "id": "bf9fa531-2923-4751-9364-107d3713ec70",
   "metadata": {},
   "outputs": [
    {
     "name": "stdout",
     "output_type": "stream",
     "text": [
      "<class 'pandas.core.frame.DataFrame'>\n",
      "RangeIndex: 81 entries, 0 to 80\n",
      "Data columns (total 11 columns):\n",
      " #   Column                          Non-Null Count  Dtype  \n",
      "---  ------                          --------------  -----  \n",
      " 0   Year                            73 non-null     object \n",
      " 1   Total male population (000s)    71 non-null     object \n",
      " 2   Total female population (000s)  71 non-null     object \n",
      " 3   Total population (000s)         77 non-null     object \n",
      " 4   Median age                      71 non-null     float64\n",
      " 5   Sex ratio                       71 non-null     float64\n",
      " 6   Median age at death             71 non-null     object \n",
      " 7   Total fertility                 71 non-null     object \n",
      " 8   Child dependency                71 non-null     float64\n",
      " 9   Elderly dependency              71 non-null     float64\n",
      " 10  Total dependency                71 non-null     float64\n",
      "dtypes: float64(5), object(6)\n",
      "memory usage: 7.1+ KB\n"
     ]
    }
   ],
   "source": [
    "population_proj.info()"
   ]
  },
  {
   "cell_type": "code",
   "execution_count": null,
   "id": "80299d7d-26cf-447b-ab4a-3e72cbdb7212",
   "metadata": {},
   "outputs": [],
   "source": []
  }
 ],
 "metadata": {
  "kernelspec": {
   "display_name": "Python [conda env:aaic]",
   "language": "python",
   "name": "conda-env-aaic-py"
  },
  "language_info": {
   "codemirror_mode": {
    "name": "ipython",
    "version": 3
   },
   "file_extension": ".py",
   "mimetype": "text/x-python",
   "name": "python",
   "nbconvert_exporter": "python",
   "pygments_lexer": "ipython3",
   "version": "3.9.12"
  }
 },
 "nbformat": 4,
 "nbformat_minor": 5
}
