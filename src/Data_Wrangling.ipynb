{
 "cells": [
  {
   "cell_type": "code",
   "execution_count": 1,
   "id": "a7acd6ff-9362-4668-ba00-6c96b58e2227",
   "metadata": {},
   "outputs": [],
   "source": [
    "# Imports\n",
    "\n",
    "import pandas as pd\n",
    "import numpy as np\n",
    "import openpyxl"
   ]
  },
  {
   "cell_type": "markdown",
   "id": "3af1a2b4-608d-4a31-b8af-f7ded11d876e",
   "metadata": {},
   "source": [
    "### Read the first data file"
   ]
  },
  {
   "cell_type": "code",
   "execution_count": 2,
   "id": "9b841ba2-3298-4efa-a896-35d239d15c61",
   "metadata": {},
   "outputs": [],
   "source": [
    "# Reading the files, Omit the first 3 rows and last 9 rows of unnecessary data\n",
    "\n",
    "data1 = pd.read_csv(\"../data/raw/summary-statistics.csv\", skiprows=3)[:-9]\n",
    "data1.dropna(inplace = True)"
   ]
  },
  {
   "cell_type": "code",
   "execution_count": 3,
   "id": "69c5b08d-38f8-43d6-822b-27ef1ddb4682",
   "metadata": {},
   "outputs": [],
   "source": [
    "data1['Total male population (000s)'] = data1['Total male population (000s)'].apply(lambda x: x.replace(',', ''))\n",
    "data1['Total female population (000s)'] = data1['Total female population (000s)'].apply(lambda x: x.replace(',', ''))\n",
    "data1['Total population (000s)'] = data1['Total population (000s)'].apply(lambda x: x.replace(',', ''))\n",
    "data1['Median age at death'] = data1['Median age at death'].apply(lambda x: x.replace(',', ''))\n",
    "data1['Total fertility'] = data1['Total fertility'].apply(lambda x: x.replace(',', ''))"
   ]
  },
  {
   "cell_type": "code",
   "execution_count": 4,
   "id": "fbb431f6-3457-4d45-a850-c3a668923866",
   "metadata": {},
   "outputs": [],
   "source": [
    "data1['Median age at death'] = data1['Median age at death'].apply(lambda x: x.replace('--', '0'))\n",
    "data1['Total fertility'] = data1['Total fertility'].apply(lambda x: x.replace('--', '0'))"
   ]
  },
  {
   "cell_type": "code",
   "execution_count": 5,
   "id": "ba5d69b1-f7f0-4b6c-91d9-9e497a7d84af",
   "metadata": {},
   "outputs": [],
   "source": [
    "data1 = data1.astype({'Total male population (000s)':'float',\n",
    "                                          'Total female population (000s)':'float',\n",
    "                                          'Total population (000s)':'float',\n",
    "                                          'Median age at death':'float',\n",
    "                                          'Total fertility':'float',\n",
    "                                         })"
   ]
  },
  {
   "cell_type": "code",
   "execution_count": 6,
   "id": "d554f0fc-07b1-4baf-9879-2991fc6dc45d",
   "metadata": {},
   "outputs": [],
   "source": [
    "data1['Year'] = data1['Year'].astype('str')"
   ]
  },
  {
   "cell_type": "code",
   "execution_count": 7,
   "id": "5a0202db-acc7-4519-b601-a9e2a53d1ed7",
   "metadata": {},
   "outputs": [],
   "source": [
    "# Exporting to csv file for plotting\n",
    "data1.to_csv('../data/clean/population_trends.csv', index=False)"
   ]
  },
  {
   "cell_type": "code",
   "execution_count": null,
   "id": "d06cb441-c776-4574-8bdb-071d7cd60777",
   "metadata": {},
   "outputs": [],
   "source": []
  },
  {
   "cell_type": "code",
   "execution_count": 8,
   "id": "2b7d14ed-6f2c-4dcb-b384-000bbe63cc8c",
   "metadata": {},
   "outputs": [],
   "source": [
    "# Creating a tidy dataframe for viewing the children dependency, elderly denpendency\n",
    "dependency_melt = pd.melt(data1[['Year', 'Child dependency', 'Elderly dependency', 'Total dependency']], id_vars = ['Year'], value_vars= ['Child dependency', 'Elderly dependency', 'Total dependency'], var_name= 'Dependency', value_name= 'Value')"
   ]
  },
  {
   "cell_type": "code",
   "execution_count": 9,
   "id": "8470812e-3edc-4488-82b9-cdaf50682e70",
   "metadata": {},
   "outputs": [],
   "source": [
    "# Exporting to csv file for plotting\n",
    "dependency_melt.to_csv('../data/clean/dependency.csv', index=False)"
   ]
  },
  {
   "cell_type": "markdown",
   "id": "20e07841-2dfe-45de-beb1-446b4dd7c343",
   "metadata": {},
   "source": [
    "### Read the second data file"
   ]
  },
  {
   "cell_type": "code",
   "execution_count": 10,
   "id": "d959e3ad-7280-4dbf-9c71-e071a7ec353a",
   "metadata": {},
   "outputs": [],
   "source": [
    "data2 = pd.read_csv(\"../data/raw/provincial_voter_participation_by_age_group.csv\")"
   ]
  },
  {
   "cell_type": "code",
   "execution_count": 11,
   "id": "15ee0ed2-4706-41a7-b7bd-c1e2e907c6be",
   "metadata": {},
   "outputs": [],
   "source": [
    "data2['PARTICIPATION'] = data2['PARTICIPATION'].apply(lambda x: x.replace(',', ''))\n",
    "data2['REGISTERED_VOTERS'] = data2['REGISTERED_VOTERS'].apply(lambda x: x.replace(',', ''))"
   ]
  },
  {
   "cell_type": "code",
   "execution_count": 12,
   "id": "840f9668-4308-4055-81ec-891d970a52a2",
   "metadata": {},
   "outputs": [],
   "source": [
    "data2['Year'] = data2['EVENT_YEAR'].astype('str')"
   ]
  },
  {
   "cell_type": "code",
   "execution_count": 13,
   "id": "4da918ba-4230-4731-a7f9-56f891a4e59a",
   "metadata": {},
   "outputs": [],
   "source": [
    "data2 = data2.astype({'PARTICIPATION':'int',\n",
    "                                          'REGISTERED_VOTERS':'int',\n",
    "                                          'AGE_GROUP':'str',\n",
    "                                                  'Year': 'str',})"
   ]
  },
  {
   "cell_type": "code",
   "execution_count": 14,
   "id": "61f0ffd4-ce28-425e-aca1-004a7715c9f7",
   "metadata": {},
   "outputs": [],
   "source": [
    "data2 = data2[['Year', 'ED_NAME', 'AGE_GROUP', 'PARTICIPATION', 'REGISTERED_VOTERS']]"
   ]
  },
  {
   "cell_type": "code",
   "execution_count": 15,
   "id": "7f0ced7b-de24-46e8-b652-f6e4545a7d47",
   "metadata": {},
   "outputs": [],
   "source": [
    "data2['RATIO_PARTICIPATION'] = round(data2['PARTICIPATION']/data2['REGISTERED_VOTERS'],2)"
   ]
  },
  {
   "cell_type": "code",
   "execution_count": 16,
   "id": "80e7c967-cc61-4db7-9278-f1087eae03f8",
   "metadata": {},
   "outputs": [],
   "source": [
    "# Exporting to csv file for plotting\n",
    "data2.to_csv('../data/clean/participation_by_district.csv')"
   ]
  },
  {
   "cell_type": "code",
   "execution_count": 17,
   "id": "d1303a60-77d3-42c4-98f0-e9258c0bb613",
   "metadata": {},
   "outputs": [
    {
     "name": "stderr",
     "output_type": "stream",
     "text": [
      "C:\\Users\\ranji\\AppData\\Local\\Temp\\ipykernel_18052\\1055910838.py:1: FutureWarning: Indexing with multiple keys (implicitly converted to a tuple of keys) will be deprecated, use a list instead.\n",
      "  participation_df = data2.groupby(['Year', 'AGE_GROUP'])['PARTICIPATION', 'REGISTERED_VOTERS'].sum().reset_index()\n"
     ]
    }
   ],
   "source": [
    "participation_df = data2.groupby(['Year', 'AGE_GROUP'])['PARTICIPATION', 'REGISTERED_VOTERS'].sum().reset_index()"
   ]
  },
  {
   "cell_type": "code",
   "execution_count": 18,
   "id": "37476e14-ac7a-4cea-bea6-f65e6323d851",
   "metadata": {},
   "outputs": [],
   "source": [
    "participation_df['RATIO_PARTICIPATION'] = round(participation_df['PARTICIPATION']/participation_df['REGISTERED_VOTERS'],2)"
   ]
  },
  {
   "cell_type": "code",
   "execution_count": 19,
   "id": "399de729-5843-4dbb-a586-9bbf04b96453",
   "metadata": {},
   "outputs": [],
   "source": [
    "# Exporting to csv file for plotting\n",
    "participation_df.to_csv('../data/clean/participation_aggregate.csv', index=False)"
   ]
  },
  {
   "cell_type": "code",
   "execution_count": null,
   "id": "64c65b40-3de3-4e38-9078-c67cf6ec95ed",
   "metadata": {},
   "outputs": [],
   "source": []
  },
  {
   "cell_type": "markdown",
   "id": "319d3662-5400-4464-aced-57b7c39c36e0",
   "metadata": {},
   "source": [
    "### Read the third data file"
   ]
  },
  {
   "cell_type": "code",
   "execution_count": 21,
   "id": "08f89e4d-4f54-476b-bf17-82080fc10259",
   "metadata": {},
   "outputs": [],
   "source": [
    "# Reading the relevant rows that provide the public sectore expenditure on health in British Columbia\n",
    "\n",
    "data3 = pd.read_excel('../data/raw/nhex-series-B-2022-en.xlsx', sheet_name='Total', skiprows=4,  nrows= 46)"
   ]
  },
  {
   "cell_type": "code",
   "execution_count": 22,
   "id": "1ccdf76a-2844-4708-b247-28a2ebbba957",
   "metadata": {},
   "outputs": [],
   "source": [
    "# Removing the spaces from the column names\n",
    "data3.columns = data3.columns.str.strip()"
   ]
  },
  {
   "cell_type": "code",
   "execution_count": 23,
   "id": "ecc6bb82-b90e-42f3-af5b-c11a2ee8dd36",
   "metadata": {},
   "outputs": [],
   "source": [
    "data3['Year'] = data3['Year'].astype(str)"
   ]
  },
  {
   "cell_type": "code",
   "execution_count": 24,
   "id": "a95da006-4385-403a-b6e9-7fbb9245e1f9",
   "metadata": {},
   "outputs": [],
   "source": [
    "# Selecting only the columns of interest to us\n",
    "# healthcare_exp_df = data3[['Year', 'B.C.']]\n",
    "healthcare_exp_df = data3.drop('Canada', axis = 1)"
   ]
  },
  {
   "cell_type": "code",
   "execution_count": 25,
   "id": "22cc1281-30f3-4423-8d15-7b408ecd5e60",
   "metadata": {},
   "outputs": [
    {
     "data": {
      "text/plain": [
       "Index(['Year', 'N.L.', 'P.E.I.', 'N.S.', 'N.B.', 'Que.', 'Ont.', 'Man.',\n",
       "       'Sask.', 'Alta.', 'B.C.', 'Y.T.', 'N.W.T', 'Nun.'],\n",
       "      dtype='object')"
      ]
     },
     "execution_count": 25,
     "metadata": {},
     "output_type": "execute_result"
    }
   ],
   "source": [
    "healthcare_exp_df.columns"
   ]
  },
  {
   "cell_type": "code",
   "execution_count": 26,
   "id": "3fe974a5-15bf-4e28-a9ae-58e66b813a48",
   "metadata": {
    "tags": []
   },
   "outputs": [],
   "source": [
    "healthcare_exp_df = healthcare_exp_df.rename(columns={\"N.L.\": \"Newfoundland and Labrador\",\n",
    "                                  \"P.E.I.\": \"Prince Edward Island\",\n",
    "                                  \"N.S.\": \"Nova Scotia\",\n",
    "                                  \"N.B.\": \"New Brunswick\",\n",
    "                                  \"Que.\": \"Quebec\",\n",
    "                                  \"Ont.\": \"Ontario\",\n",
    "                                  \"Man.\": \"Manitoba\",\n",
    "                                  \"Man.\": \"Manitoba\",\n",
    "                                  \"Sask.\": \"Saskatchewan\",\n",
    "                                  \"Alta.\": \"Atlantic Canada\",\n",
    "                                 \"B.C.\": \"British Columbia\",\n",
    "                                 \"Y.T.\": \"Yukon\",\n",
    "                                 \"N.W.T\": \"Northwest Territories\",\n",
    "                                 \"Nun.\": \"Nunavut\"})"
   ]
  },
  {
   "cell_type": "code",
   "execution_count": 27,
   "id": "e5c608ec-b0ae-46d2-93d4-82b3e578ae00",
   "metadata": {},
   "outputs": [],
   "source": [
    "healthcare_exp_df['Nunavut'] = healthcare_exp_df['Nunavut'].replace('—','N/A')"
   ]
  },
  {
   "cell_type": "code",
   "execution_count": 28,
   "id": "d8872323-8bf5-433d-be28-adf6519e9d57",
   "metadata": {},
   "outputs": [
    {
     "data": {
      "text/html": [
       "<div>\n",
       "<style scoped>\n",
       "    .dataframe tbody tr th:only-of-type {\n",
       "        vertical-align: middle;\n",
       "    }\n",
       "\n",
       "    .dataframe tbody tr th {\n",
       "        vertical-align: top;\n",
       "    }\n",
       "\n",
       "    .dataframe thead th {\n",
       "        text-align: right;\n",
       "    }\n",
       "</style>\n",
       "<table border=\"1\" class=\"dataframe\">\n",
       "  <thead>\n",
       "    <tr style=\"text-align: right;\">\n",
       "      <th></th>\n",
       "      <th>Year</th>\n",
       "      <th>Newfoundland and Labrador</th>\n",
       "      <th>Prince Edward Island</th>\n",
       "      <th>Nova Scotia</th>\n",
       "      <th>New Brunswick</th>\n",
       "      <th>Quebec</th>\n",
       "      <th>Ontario</th>\n",
       "      <th>Manitoba</th>\n",
       "      <th>Saskatchewan</th>\n",
       "      <th>Atlantic Canada</th>\n",
       "      <th>British Columbia</th>\n",
       "      <th>Yukon</th>\n",
       "      <th>Northwest Territories</th>\n",
       "      <th>Nunavut</th>\n",
       "    </tr>\n",
       "  </thead>\n",
       "  <tbody>\n",
       "    <tr>\n",
       "      <th>0</th>\n",
       "      <td>1975</td>\n",
       "      <td>264.492823</td>\n",
       "      <td>59.170241</td>\n",
       "      <td>382.472695</td>\n",
       "      <td>277.479931</td>\n",
       "      <td>3378.773052</td>\n",
       "      <td>4422.820024</td>\n",
       "      <td>546.334119</td>\n",
       "      <td>441.196953</td>\n",
       "      <td>992.343324</td>\n",
       "      <td>1383.358787</td>\n",
       "      <td>15.91580</td>\n",
       "      <td>35.07910</td>\n",
       "      <td>N/A</td>\n",
       "    </tr>\n",
       "    <tr>\n",
       "      <th>1</th>\n",
       "      <td>1976</td>\n",
       "      <td>312.823110</td>\n",
       "      <td>62.861735</td>\n",
       "      <td>442.183642</td>\n",
       "      <td>321.885196</td>\n",
       "      <td>3875.164143</td>\n",
       "      <td>5040.800222</td>\n",
       "      <td>629.384654</td>\n",
       "      <td>520.340402</td>\n",
       "      <td>1158.898913</td>\n",
       "      <td>1628.320348</td>\n",
       "      <td>18.07495</td>\n",
       "      <td>39.04545</td>\n",
       "      <td>N/A</td>\n",
       "    </tr>\n",
       "    <tr>\n",
       "      <th>2</th>\n",
       "      <td>1977</td>\n",
       "      <td>362.882321</td>\n",
       "      <td>68.724824</td>\n",
       "      <td>469.113113</td>\n",
       "      <td>358.882199</td>\n",
       "      <td>4200.684762</td>\n",
       "      <td>5524.588041</td>\n",
       "      <td>705.987982</td>\n",
       "      <td>587.366712</td>\n",
       "      <td>1272.117323</td>\n",
       "      <td>1831.820033</td>\n",
       "      <td>18.50290</td>\n",
       "      <td>49.30825</td>\n",
       "      <td>N/A</td>\n",
       "    </tr>\n",
       "    <tr>\n",
       "      <th>3</th>\n",
       "      <td>1978</td>\n",
       "      <td>412.694878</td>\n",
       "      <td>79.485228</td>\n",
       "      <td>512.482513</td>\n",
       "      <td>404.659686</td>\n",
       "      <td>4666.574890</td>\n",
       "      <td>6071.878920</td>\n",
       "      <td>749.024697</td>\n",
       "      <td>622.383314</td>\n",
       "      <td>1465.355210</td>\n",
       "      <td>2044.413892</td>\n",
       "      <td>21.34315</td>\n",
       "      <td>56.50345</td>\n",
       "      <td>N/A</td>\n",
       "    </tr>\n",
       "    <tr>\n",
       "      <th>4</th>\n",
       "      <td>1979</td>\n",
       "      <td>473.336652</td>\n",
       "      <td>96.582711</td>\n",
       "      <td>572.951620</td>\n",
       "      <td>470.024135</td>\n",
       "      <td>5149.609827</td>\n",
       "      <td>6727.957753</td>\n",
       "      <td>823.319232</td>\n",
       "      <td>703.467426</td>\n",
       "      <td>1780.959174</td>\n",
       "      <td>2288.573107</td>\n",
       "      <td>23.94195</td>\n",
       "      <td>58.95455</td>\n",
       "      <td>N/A</td>\n",
       "    </tr>\n",
       "  </tbody>\n",
       "</table>\n",
       "</div>"
      ],
      "text/plain": [
       "   Year  Newfoundland and Labrador  Prince Edward Island  Nova Scotia  \\\n",
       "0  1975                 264.492823             59.170241   382.472695   \n",
       "1  1976                 312.823110             62.861735   442.183642   \n",
       "2  1977                 362.882321             68.724824   469.113113   \n",
       "3  1978                 412.694878             79.485228   512.482513   \n",
       "4  1979                 473.336652             96.582711   572.951620   \n",
       "\n",
       "   New Brunswick       Quebec      Ontario    Manitoba  Saskatchewan  \\\n",
       "0     277.479931  3378.773052  4422.820024  546.334119    441.196953   \n",
       "1     321.885196  3875.164143  5040.800222  629.384654    520.340402   \n",
       "2     358.882199  4200.684762  5524.588041  705.987982    587.366712   \n",
       "3     404.659686  4666.574890  6071.878920  749.024697    622.383314   \n",
       "4     470.024135  5149.609827  6727.957753  823.319232    703.467426   \n",
       "\n",
       "   Atlantic Canada  British Columbia     Yukon  Northwest Territories Nunavut  \n",
       "0       992.343324       1383.358787  15.91580               35.07910     N/A  \n",
       "1      1158.898913       1628.320348  18.07495               39.04545     N/A  \n",
       "2      1272.117323       1831.820033  18.50290               49.30825     N/A  \n",
       "3      1465.355210       2044.413892  21.34315               56.50345     N/A  \n",
       "4      1780.959174       2288.573107  23.94195               58.95455     N/A  "
      ]
     },
     "execution_count": 28,
     "metadata": {},
     "output_type": "execute_result"
    }
   ],
   "source": [
    "healthcare_exp_df.head()"
   ]
  },
  {
   "cell_type": "code",
   "execution_count": null,
   "id": "ab6f7998-7ae2-41d7-a2ea-5347a99223f9",
   "metadata": {},
   "outputs": [],
   "source": []
  },
  {
   "cell_type": "code",
   "execution_count": 29,
   "id": "47384947-32a3-4151-bfae-0fe6041b9327",
   "metadata": {},
   "outputs": [],
   "source": [
    "value_vars = healthcare_exp_df.drop('Year', axis = 1).columns"
   ]
  },
  {
   "cell_type": "code",
   "execution_count": 30,
   "id": "36deb549-d8c9-4298-be80-13722752f6bb",
   "metadata": {},
   "outputs": [],
   "source": [
    "healthcare_melt = pd.melt(healthcare_exp_df, id_vars = ['Year'], value_vars= value_vars, var_name= 'Provinces', value_name= 'Health Expense (Millions)')"
   ]
  },
  {
   "cell_type": "code",
   "execution_count": 31,
   "id": "7c6eb41a-9d66-481d-89f2-12138677cffb",
   "metadata": {},
   "outputs": [],
   "source": [
    "healthcare_melt.to_csv('../data/clean/healthcare_expenses.csv', index = False)"
   ]
  },
  {
   "cell_type": "code",
   "execution_count": null,
   "id": "410cd565-b3da-477e-b9f9-0b5e823c64f8",
   "metadata": {},
   "outputs": [],
   "source": []
  },
  {
   "cell_type": "code",
   "execution_count": 14,
   "id": "5c75cfe2-8c1d-4a88-9eba-4a0c82de4d9c",
   "metadata": {},
   "outputs": [],
   "source": [
    "# healthcare_exp_df.dropna(inplace = True)"
   ]
  },
  {
   "cell_type": "markdown",
   "id": "f3ac8945-c780-4c4d-b332-95038de7fd3e",
   "metadata": {},
   "source": [
    "### Per-capita health expenditure computation"
   ]
  },
  {
   "cell_type": "code",
   "execution_count": 25,
   "id": "bd7e4a58-559e-4c8b-904c-b34de9d713b4",
   "metadata": {},
   "outputs": [],
   "source": [
    "# Joining the data to compute the per-capita health expenditure\n",
    "\n",
    "healthcare_exp_df = pd.merge(healthcare_exp_df, data1, how = 'left', on = 'Year')"
   ]
  },
  {
   "cell_type": "code",
   "execution_count": 26,
   "id": "1c644972-dff5-46d0-b135-e1b37fcf50f0",
   "metadata": {},
   "outputs": [],
   "source": [
    "# Numerator is in millions, denominator is in thousands\n",
    "healthcare_exp_df['Per_capita_healthexp'] = healthcare_exp_df['B.C.'] / healthcare_exp_df['Total population (000s)']"
   ]
  },
  {
   "cell_type": "code",
   "execution_count": 27,
   "id": "59725ff9-a6b0-4f4e-926a-cdd4c480f73e",
   "metadata": {},
   "outputs": [],
   "source": [
    "# Multiply the result with 1000 to get in CAD.\n",
    "healthcare_exp_df['Per_capita_healthexp']  = healthcare_exp_df['Per_capita_healthexp'] * 1000"
   ]
  },
  {
   "cell_type": "code",
   "execution_count": 28,
   "id": "0af31420-4b1e-46d0-acbc-35e0897636cc",
   "metadata": {},
   "outputs": [],
   "source": [
    "healthcare_exp_df = healthcare_exp_df[['Year', 'Per_capita_healthexp', 'Median age']]"
   ]
  },
  {
   "cell_type": "code",
   "execution_count": 16,
   "id": "0dd2d9f3-14c2-436e-a618-23bd5ab0c20a",
   "metadata": {},
   "outputs": [],
   "source": [
    "# Exporting to csv file for plotting\n",
    "# healthcare_exp_df.to_csv('../data/clean/healthcare_expenses.csv', index = False)"
   ]
  },
  {
   "cell_type": "code",
   "execution_count": null,
   "id": "42e22bc9-1335-44ab-98ff-1277cc581e03",
   "metadata": {},
   "outputs": [],
   "source": []
  },
  {
   "cell_type": "code",
   "execution_count": null,
   "id": "265342c9-f648-4d06-a2e2-767fbc8ab349",
   "metadata": {},
   "outputs": [],
   "source": []
  }
 ],
 "metadata": {
  "kernelspec": {
   "display_name": "Python 3 (ipykernel)",
   "language": "python",
   "name": "python3"
  },
  "language_info": {
   "codemirror_mode": {
    "name": "ipython",
    "version": 3
   },
   "file_extension": ".py",
   "mimetype": "text/x-python",
   "name": "python",
   "nbconvert_exporter": "python",
   "pygments_lexer": "ipython3",
   "version": "3.9.15"
  }
 },
 "nbformat": 4,
 "nbformat_minor": 5
}
