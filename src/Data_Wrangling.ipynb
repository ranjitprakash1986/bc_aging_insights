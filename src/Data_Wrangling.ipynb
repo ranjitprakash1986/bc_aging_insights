{
 "cells": [
  {
   "cell_type": "code",
   "execution_count": 1,
   "id": "a7acd6ff-9362-4668-ba00-6c96b58e2227",
   "metadata": {},
   "outputs": [],
   "source": [
    "# Imports\n",
    "\n",
    "import pandas as pd\n",
    "import numpy as np\n",
    "import openpyxl"
   ]
  },
  {
   "cell_type": "markdown",
   "id": "3af1a2b4-608d-4a31-b8af-f7ded11d876e",
   "metadata": {},
   "source": [
    "### Read the first data file"
   ]
  },
  {
   "cell_type": "code",
   "execution_count": 2,
   "id": "9b841ba2-3298-4efa-a896-35d239d15c61",
   "metadata": {},
   "outputs": [],
   "source": [
    "# Reading the files, Omit the first 3 rows and last 9 rows of unnecessary data\n",
    "\n",
    "data1 = pd.read_csv(\"../data/raw/summary-statistics.csv\", skiprows=3)[:-9]\n",
    "data1.dropna(inplace = True)"
   ]
  },
  {
   "cell_type": "code",
   "execution_count": 3,
   "id": "69c5b08d-38f8-43d6-822b-27ef1ddb4682",
   "metadata": {},
   "outputs": [],
   "source": [
    "data1['Total male population (000s)'] = data1['Total male population (000s)'].apply(lambda x: x.replace(',', ''))\n",
    "data1['Total female population (000s)'] = data1['Total female population (000s)'].apply(lambda x: x.replace(',', ''))\n",
    "data1['Total population (000s)'] = data1['Total population (000s)'].apply(lambda x: x.replace(',', ''))\n",
    "data1['Median age at death'] = data1['Median age at death'].apply(lambda x: x.replace(',', ''))\n",
    "data1['Total fertility'] = data1['Total fertility'].apply(lambda x: x.replace(',', ''))"
   ]
  },
  {
   "cell_type": "code",
   "execution_count": 4,
   "id": "fbb431f6-3457-4d45-a850-c3a668923866",
   "metadata": {},
   "outputs": [],
   "source": [
    "data1['Median age at death'] = data1['Median age at death'].apply(lambda x: x.replace('--', '0'))\n",
    "data1['Total fertility'] = data1['Total fertility'].apply(lambda x: x.replace('--', '0'))"
   ]
  },
  {
   "cell_type": "code",
   "execution_count": 5,
   "id": "ba5d69b1-f7f0-4b6c-91d9-9e497a7d84af",
   "metadata": {},
   "outputs": [],
   "source": [
    "data1 = data1.astype({'Total male population (000s)':'float',\n",
    "                                          'Total female population (000s)':'float',\n",
    "                                          'Total population (000s)':'float',\n",
    "                                          'Median age at death':'float',\n",
    "                                          'Total fertility':'float',\n",
    "                                         })"
   ]
  },
  {
   "cell_type": "code",
   "execution_count": 6,
   "id": "d554f0fc-07b1-4baf-9879-2991fc6dc45d",
   "metadata": {},
   "outputs": [],
   "source": [
    "data1['Year'] = data1['Year'].astype('str')"
   ]
  },
  {
   "cell_type": "code",
   "execution_count": 7,
   "id": "5a0202db-acc7-4519-b601-a9e2a53d1ed7",
   "metadata": {},
   "outputs": [],
   "source": [
    "# Exporting to csv file for plotting\n",
    "data1.to_csv('../data/clean/population_trends.csv', index=False)"
   ]
  },
  {
   "cell_type": "code",
   "execution_count": null,
   "id": "d06cb441-c776-4574-8bdb-071d7cd60777",
   "metadata": {},
   "outputs": [],
   "source": []
  },
  {
   "cell_type": "code",
   "execution_count": 8,
   "id": "2b7d14ed-6f2c-4dcb-b384-000bbe63cc8c",
   "metadata": {},
   "outputs": [],
   "source": [
    "# Creating a tidy dataframe for viewing the children dependency, elderly denpendency\n",
    "dependency_melt = pd.melt(data1[['Year', 'Child dependency', 'Elderly dependency', 'Total dependency']], id_vars = ['Year'], value_vars= ['Child dependency', 'Elderly dependency', 'Total dependency'], var_name= 'Dependency', value_name= 'Value')"
   ]
  },
  {
   "cell_type": "code",
   "execution_count": 9,
   "id": "8470812e-3edc-4488-82b9-cdaf50682e70",
   "metadata": {},
   "outputs": [],
   "source": [
    "# Exporting to csv file for plotting\n",
    "dependency_melt.to_csv('../data/clean/dependency.csv', index=False)"
   ]
  },
  {
   "cell_type": "markdown",
   "id": "20e07841-2dfe-45de-beb1-446b4dd7c343",
   "metadata": {},
   "source": [
    "### Read the second data file"
   ]
  },
  {
   "cell_type": "code",
   "execution_count": 10,
   "id": "d959e3ad-7280-4dbf-9c71-e071a7ec353a",
   "metadata": {},
   "outputs": [],
   "source": [
    "data2 = pd.read_csv(\"../data/raw/provincial_voter_participation_by_age_group.csv\")"
   ]
  },
  {
   "cell_type": "code",
   "execution_count": 11,
   "id": "15ee0ed2-4706-41a7-b7bd-c1e2e907c6be",
   "metadata": {},
   "outputs": [],
   "source": [
    "data2['PARTICIPATION'] = data2['PARTICIPATION'].apply(lambda x: x.replace(',', ''))\n",
    "data2['REGISTERED_VOTERS'] = data2['REGISTERED_VOTERS'].apply(lambda x: x.replace(',', ''))"
   ]
  },
  {
   "cell_type": "code",
   "execution_count": 12,
   "id": "840f9668-4308-4055-81ec-891d970a52a2",
   "metadata": {},
   "outputs": [],
   "source": [
    "data2['Year'] = data2['EVENT_YEAR'].astype('str')"
   ]
  },
  {
   "cell_type": "code",
   "execution_count": 13,
   "id": "4da918ba-4230-4731-a7f9-56f891a4e59a",
   "metadata": {},
   "outputs": [],
   "source": [
    "data2 = data2.astype({'PARTICIPATION':'int',\n",
    "                                          'REGISTERED_VOTERS':'int',\n",
    "                                          'AGE_GROUP':'str',\n",
    "                                                  'Year': 'str',})"
   ]
  },
  {
   "cell_type": "code",
   "execution_count": 14,
   "id": "61f0ffd4-ce28-425e-aca1-004a7715c9f7",
   "metadata": {},
   "outputs": [],
   "source": [
    "data2 = data2[['Year', 'ED_NAME', 'AGE_GROUP', 'PARTICIPATION', 'REGISTERED_VOTERS']]"
   ]
  },
  {
   "cell_type": "code",
   "execution_count": 15,
   "id": "7f0ced7b-de24-46e8-b652-f6e4545a7d47",
   "metadata": {},
   "outputs": [],
   "source": [
    "data2['RATIO_PARTICIPATION'] = round(data2['PARTICIPATION']/data2['REGISTERED_VOTERS'],2)"
   ]
  },
  {
   "cell_type": "code",
   "execution_count": 16,
   "id": "80e7c967-cc61-4db7-9278-f1087eae03f8",
   "metadata": {},
   "outputs": [],
   "source": [
    "# Exporting to csv file for plotting\n",
    "data2.to_csv('../data/clean/participation_by_district.csv')"
   ]
  },
  {
   "cell_type": "code",
   "execution_count": 17,
   "id": "d1303a60-77d3-42c4-98f0-e9258c0bb613",
   "metadata": {},
   "outputs": [
    {
     "name": "stderr",
     "output_type": "stream",
     "text": [
      "C:\\Users\\ranji\\AppData\\Local\\Temp\\ipykernel_18052\\1055910838.py:1: FutureWarning: Indexing with multiple keys (implicitly converted to a tuple of keys) will be deprecated, use a list instead.\n",
      "  participation_df = data2.groupby(['Year', 'AGE_GROUP'])['PARTICIPATION', 'REGISTERED_VOTERS'].sum().reset_index()\n"
     ]
    }
   ],
   "source": [
    "participation_df = data2.groupby(['Year', 'AGE_GROUP'])['PARTICIPATION', 'REGISTERED_VOTERS'].sum().reset_index()"
   ]
  },
  {
   "cell_type": "code",
   "execution_count": 18,
   "id": "37476e14-ac7a-4cea-bea6-f65e6323d851",
   "metadata": {},
   "outputs": [],
   "source": [
    "participation_df['RATIO_PARTICIPATION'] = round(participation_df['PARTICIPATION']/participation_df['REGISTERED_VOTERS'],2)"
   ]
  },
  {
   "cell_type": "code",
   "execution_count": 19,
   "id": "399de729-5843-4dbb-a586-9bbf04b96453",
   "metadata": {},
   "outputs": [],
   "source": [
    "# Exporting to csv file for plotting\n",
    "participation_df.to_csv('../data/clean/participation_aggregate.csv', index=False)"
   ]
  },
  {
   "cell_type": "code",
   "execution_count": null,
   "id": "64c65b40-3de3-4e38-9078-c67cf6ec95ed",
   "metadata": {},
   "outputs": [],
   "source": []
  },
  {
   "cell_type": "markdown",
   "id": "319d3662-5400-4464-aced-57b7c39c36e0",
   "metadata": {},
   "source": [
    "### Read the third data file"
   ]
  },
  {
   "cell_type": "code",
   "execution_count": 20,
   "id": "08f89e4d-4f54-476b-bf17-82080fc10259",
   "metadata": {},
   "outputs": [],
   "source": [
    "# Reading the relevant rows that provide the public sectore expenditure on health in British Columbia\n",
    "\n",
    "data3 = pd.read_excel('../data/raw/nhex-series-B-2022-en.xlsx', sheet_name='Public', skiprows=4,  nrows= 46)"
   ]
  },
  {
   "cell_type": "code",
   "execution_count": 21,
   "id": "1ccdf76a-2844-4708-b247-28a2ebbba957",
   "metadata": {},
   "outputs": [],
   "source": [
    "# Removing the spaces from the column names\n",
    "data3.columns = data3.columns.str.strip()"
   ]
  },
  {
   "cell_type": "code",
   "execution_count": 22,
   "id": "ecc6bb82-b90e-42f3-af5b-c11a2ee8dd36",
   "metadata": {},
   "outputs": [],
   "source": [
    "data3['Year'] = data3['Year'].astype(str)"
   ]
  },
  {
   "cell_type": "code",
   "execution_count": 23,
   "id": "a95da006-4385-403a-b6e9-7fbb9245e1f9",
   "metadata": {},
   "outputs": [],
   "source": [
    "# Selecting only the columns of interest to us\n",
    "healthcare_exp_df = data3[['Year', 'B.C.']]"
   ]
  },
  {
   "cell_type": "code",
   "execution_count": 24,
   "id": "5c75cfe2-8c1d-4a88-9eba-4a0c82de4d9c",
   "metadata": {},
   "outputs": [
    {
     "name": "stderr",
     "output_type": "stream",
     "text": [
      "C:\\Users\\ranji\\AppData\\Local\\Temp\\ipykernel_18052\\943563905.py:1: SettingWithCopyWarning: \n",
      "A value is trying to be set on a copy of a slice from a DataFrame\n",
      "\n",
      "See the caveats in the documentation: https://pandas.pydata.org/pandas-docs/stable/user_guide/indexing.html#returning-a-view-versus-a-copy\n",
      "  healthcare_exp_df.dropna(inplace = True)\n"
     ]
    }
   ],
   "source": [
    "healthcare_exp_df.dropna(inplace = True)"
   ]
  },
  {
   "cell_type": "markdown",
   "id": "f3ac8945-c780-4c4d-b332-95038de7fd3e",
   "metadata": {},
   "source": [
    "### Per-capita health expenditure computation"
   ]
  },
  {
   "cell_type": "code",
   "execution_count": 25,
   "id": "bd7e4a58-559e-4c8b-904c-b34de9d713b4",
   "metadata": {},
   "outputs": [],
   "source": [
    "# Joining the data to compute the per-capita health expenditure\n",
    "\n",
    "healthcare_exp_df = pd.merge(healthcare_exp_df, data1, how = 'left', on = 'Year')"
   ]
  },
  {
   "cell_type": "code",
   "execution_count": 26,
   "id": "1c644972-dff5-46d0-b135-e1b37fcf50f0",
   "metadata": {},
   "outputs": [],
   "source": [
    "# Numerator is in millions, denominator is in thousands\n",
    "healthcare_exp_df['Per_capita_healthexp'] = healthcare_exp_df['B.C.'] / healthcare_exp_df['Total population (000s)']"
   ]
  },
  {
   "cell_type": "code",
   "execution_count": 27,
   "id": "59725ff9-a6b0-4f4e-926a-cdd4c480f73e",
   "metadata": {},
   "outputs": [],
   "source": [
    "# Multiply the result with 1000 to get in CAD.\n",
    "healthcare_exp_df['Per_capita_healthexp']  = healthcare_exp_df['Per_capita_healthexp'] * 1000"
   ]
  },
  {
   "cell_type": "code",
   "execution_count": 28,
   "id": "0af31420-4b1e-46d0-acbc-35e0897636cc",
   "metadata": {},
   "outputs": [],
   "source": [
    "healthcare_exp_df = healthcare_exp_df[['Year', 'Per_capita_healthexp', 'Median age']]"
   ]
  },
  {
   "cell_type": "code",
   "execution_count": 29,
   "id": "0dd2d9f3-14c2-436e-a618-23bd5ab0c20a",
   "metadata": {},
   "outputs": [],
   "source": [
    "# Exporting to csv file for plotting\n",
    "healthcare_exp_df.to_csv('../data/clean/healthcare_expenses.csv', index = False)"
   ]
  },
  {
   "cell_type": "code",
   "execution_count": null,
   "id": "42e22bc9-1335-44ab-98ff-1277cc581e03",
   "metadata": {},
   "outputs": [],
   "source": []
  },
  {
   "cell_type": "code",
   "execution_count": null,
   "id": "265342c9-f648-4d06-a2e2-767fbc8ab349",
   "metadata": {},
   "outputs": [],
   "source": []
  }
 ],
 "metadata": {
  "kernelspec": {
   "display_name": "Python 3 (ipykernel)",
   "language": "python",
   "name": "python3"
  },
  "language_info": {
   "codemirror_mode": {
    "name": "ipython",
    "version": 3
   },
   "file_extension": ".py",
   "mimetype": "text/x-python",
   "name": "python",
   "nbconvert_exporter": "python",
   "pygments_lexer": "ipython3",
   "version": "3.9.15"
  }
 },
 "nbformat": 4,
 "nbformat_minor": 5
}
